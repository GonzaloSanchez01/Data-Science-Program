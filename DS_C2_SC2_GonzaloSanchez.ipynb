{
  "nbformat": 4,
  "nbformat_minor": 0,
  "metadata": {
    "colab": {
      "provenance": []
    },
    "kernelspec": {
      "name": "python3",
      "display_name": "Python 3"
    },
    "language_info": {
      "name": "python"
    }
  },
  "cells": [
    {
      "cell_type": "code",
      "execution_count": 2,
      "metadata": {
        "id": "NKLD7EfeBI0H"
      },
      "outputs": [],
      "source": [
        "import pandas as pd\n",
        "import numpy as np"
      ]
    },
    {
      "cell_type": "code",
      "source": [
        "datoscovid = pd.read_csv(\"/content/country_vaccinations.csv\")"
      ],
      "metadata": {
        "id": "Xo_gojT2Ebtx"
      },
      "execution_count": 4,
      "outputs": []
    },
    {
      "cell_type": "code",
      "source": [
        "#Para verificar con la función head.\n",
        "print(datoscovid.head())"
      ],
      "metadata": {
        "id": "BtFOCAB1FUZ_"
      },
      "execution_count": null,
      "outputs": []
    },
    {
      "cell_type": "code",
      "source": [
        "#Incluyendo aquellos tipos de datos por cada columna, mientras se muestra la información del DF.\n",
        "print(datoscovid.info())"
      ],
      "metadata": {
        "id": "YpnOSOPlFfge"
      },
      "execution_count": null,
      "outputs": []
    },
    {
      "cell_type": "code",
      "source": [
        "#En el siguiente paso convierto las columnas con fechas al tipo \"datetime64\"\n",
        "datoscovid['date'] = pd.to_datetime(datoscovid['date'])\n",
        "#Se verifica que las columnas con fechas ahora sean del tipo datetime64\n",
        "print(datoscovid.dtypes)"
      ],
      "metadata": {
        "id": "zbQtq2FqFi18"
      },
      "execution_count": null,
      "outputs": []
    },
    {
      "cell_type": "code",
      "source": [
        "#Ahora se calcula la cantidad de vacunas aplicadas por cada compañía y que muestre el resultado\n",
        "vacunas_por_compania = datoscovid.groupby('vaccines')['total_vaccinations'].sum()\n",
        "print(vacunas_por_compania)"
      ],
      "metadata": {
        "id": "nFVZ8rzDFkQj"
      },
      "execution_count": null,
      "outputs": []
    },
    {
      "cell_type": "code",
      "source": [
        "#Después de obtiene la cantidad total de vacunas aplicadas en todo el mundo y que muestre el resultado\n",
        "total_vacunas_mundo = datoscovid['total_vaccinations'].sum()\n",
        "print(\"Total de vacunas aplicadas a nivel mundial:\", total_vacunas_mundo)"
      ],
      "metadata": {
        "colab": {
          "base_uri": "https://localhost:8080/"
        },
        "id": "s8A6fzJRGxBC",
        "outputId": "cb4098d9-26a5-4a69-a159-49710f762af7"
      },
      "execution_count": 15,
      "outputs": [
        {
          "output_type": "stream",
          "name": "stdout",
          "text": [
            "Total de vacunas aplicadas a nivel mundial: 2002854013761.0\n"
          ]
        }
      ]
    },
    {
      "cell_type": "code",
      "source": [
        "#Se saca el promedio de vacunas aplicadas por país y que muestre el resultado\n",
        "promedio_vacunas_por_pais = datoscovid.groupby('country')['total_vaccinations'].mean()\n",
        "print(promedio_vacunas_por_pais)"
      ],
      "metadata": {
        "id": "xcIAuYSUHTng"
      },
      "execution_count": null,
      "outputs": []
    },
    {
      "cell_type": "code",
      "source": [
        "#Se convierte la columna 'date' a tipo datetime, se filtran los datos para obtener\n",
        "#de la fecha 29/01/21, se calcula la cantidad de vacunas aplicadas el 29/01/21 en todo el mundo\n",
        "#y por ultimo se muestran los resultados.\n",
        "\n",
        "datoscovid['date'] = pd.to_datetime(datoscovid['date'])\n",
        "vacunas_29_01_21 = datoscovid[datoscovid['date'] == '2021-01-29']\n",
        "vacunas_aplicadas_29_01_21 = vacunas_29_01_21['total_vaccinations'].sum()\n",
        "print(\"Total de vacunas aplicadas a nivel mundial el 29/01/21:\", vacunas_aplicadas_29_01_21)\n"
      ],
      "metadata": {
        "id": "Dn0xPdL-Hw82"
      },
      "execution_count": null,
      "outputs": []
    },
    {
      "cell_type": "code",
      "source": [
        "#Se crea la columna 'diferencias' en el df original\n",
        "#para después un nuevo dataframe con los datos originales y la columna 'diferencias'\n",
        "#para terminar mostrando las primeras filas del nuevo df\n",
        "\n",
        "datoscovid['diferencias'] = datoscovid['daily_vaccinations'] - datoscovid['daily_vaccinations_raw']\n",
        "conDiferencias = datoscovid.copy()\n",
        "print(conDiferencias.head())\n"
      ],
      "metadata": {
        "id": "CdNauq9PIPou"
      },
      "execution_count": null,
      "outputs": []
    },
    {
      "cell_type": "code",
      "source": [
        "#Se convierte la columna 'date' a tipo datetime y se obtiene la fecha más reciente y la fecha más antigua\n",
        "#Se calcula el periodo de tiempo entre la fecha más reciente y la fecha más antigua\n",
        "#Por ultimo se muestran los resultados\n",
        "\n",
        "datoscovid['date'] = pd.to_datetime(datoscovid['date'])\n",
        "fecha_mas_reciente = datoscovid['date'].max()\n",
        "fecha_mas_antigua = datoscovid['date'].min()\n",
        "periodo_tiempo = fecha_mas_reciente - fecha_mas_antigua\n",
        "print(\"Los días que hay entre el registro más reciente y el más antiguo son:\", periodo_tiempo)\n"
      ],
      "metadata": {
        "id": "PB1VDVc_JrLm"
      },
      "execution_count": null,
      "outputs": []
    },
    {
      "cell_type": "code",
      "source": [
        "#Se crea una nueva columna 'canVac' que contenga la cantidad de vacunas utilizadas cada día\n",
        "#Después se hace un nuevo df con los datos originales y la columna 'canVac' y llamó a las primeras\n",
        "#filas del nuevo df\n",
        "datoscovid['canVac'] = datoscovid['vaccines'].str.split(',').apply(len)\n",
        "conCantidad = datoscovid.copy()\n",
        "print(conCantidad.head())\n"
      ],
      "metadata": {
        "id": "u8mmW_1NKRSP"
      },
      "execution_count": null,
      "outputs": []
    },
    {
      "cell_type": "code",
      "source": [
        "#Se convierte la columna 'date' a tipo datetime\n",
        "#Procedo a filtrar los datos para obtener solo los registros anteriores al 20 de diciembre de 2020\n",
        "datoscovid['date'] = pd.to_datetime(datoscovid['date'])\n",
        "antes20 = datoscovid[datoscovid['date'] < '2020-12-20']\n",
        "print(antes20.head())"
      ],
      "metadata": {
        "id": "XBZqazD8Kpqf"
      },
      "execution_count": null,
      "outputs": []
    },
    {
      "cell_type": "code",
      "source": [
        "#Filtro los datos para obtener solo los registros donde se haya utilizado la vacuna Pfizer\n",
        "pfizer = datoscovid[datoscovid['vaccines'].str.contains('Pfizer')]\n",
        "print(pfizer.head())"
      ],
      "metadata": {
        "id": "olhlap_bL9dO"
      },
      "execution_count": null,
      "outputs": []
    },
    {
      "cell_type": "code",
      "source": [
        "!pip install xlsxwriter"
      ],
      "metadata": {
        "colab": {
          "base_uri": "https://localhost:8080/"
        },
        "id": "p3pIHdBPNYCq",
        "outputId": "a818d164-6bbd-440d-d85e-409472cc7ca3"
      },
      "execution_count": 29,
      "outputs": [
        {
          "output_type": "stream",
          "name": "stdout",
          "text": [
            "Collecting xlsxwriter\n",
            "  Downloading XlsxWriter-3.2.0-py3-none-any.whl (159 kB)\n",
            "\u001b[?25l     \u001b[90m━━━━━━━━━━━━━━━━━━━━━━━━━━━━━━━━━━━━━━━━\u001b[0m \u001b[32m0.0/159.9 kB\u001b[0m \u001b[31m?\u001b[0m eta \u001b[36m-:--:--\u001b[0m\r\u001b[2K     \u001b[91m━━━━━━━━━━━━━━━━━━━━━━━\u001b[0m\u001b[90m╺\u001b[0m\u001b[90m━━━━━━━━━━━━━━━━\u001b[0m \u001b[32m92.2/159.9 kB\u001b[0m \u001b[31m2.6 MB/s\u001b[0m eta \u001b[36m0:00:01\u001b[0m\r\u001b[2K     \u001b[90m━━━━━━━━━━━━━━━━━━━━━━━━━━━━━━━━━━━━━━━━\u001b[0m \u001b[32m159.9/159.9 kB\u001b[0m \u001b[31m3.2 MB/s\u001b[0m eta \u001b[36m0:00:00\u001b[0m\n",
            "\u001b[?25hInstalling collected packages: xlsxwriter\n",
            "Successfully installed xlsxwriter-3.2.0\n"
          ]
        }
      ]
    },
    {
      "cell_type": "code",
      "source": [
        "import pandas as pd\n",
        "#Hacerlo con conDiferencias, conCantidad, antes20 y pfizer y crear un escritorio de excel\n",
        "writer = pd.ExcelWriter('/content/resultadosReto.xlsx', engine='xlsxwriter')"
      ],
      "metadata": {
        "id": "Q4LFixGZMpMG"
      },
      "execution_count": 31,
      "outputs": []
    },
    {
      "cell_type": "code",
      "source": [
        "#Con los siguientes codigos se guarda en diferente hoja\n",
        "conDiferencias.to_excel(writer, sheet_name='conDiferencias', index=False)\n",
        "conCantidad.to_excel(writer, sheet_name='conCantidad', index=False)\n",
        "antes20.to_excel(writer, sheet_name='antes20', index=False)\n",
        "pfizer.to_excel(writer, sheet_name='pfizer', index=False)"
      ],
      "metadata": {
        "colab": {
          "base_uri": "https://localhost:8080/"
        },
        "id": "w1vBHgySOJlH",
        "outputId": "1e054c4b-5b16-4d9d-bc4c-8dc7b73693b1"
      },
      "execution_count": 34,
      "outputs": [
        {
          "output_type": "stream",
          "name": "stderr",
          "text": [
            "/usr/local/lib/python3.10/dist-packages/xlsxwriter/worksheet.py:1261: UserWarning: Ignoring URL 'https://shendetesia.gov.al/vaksinimi-anticovid-2754244-vaksinime/' since it exceeds Excel's limit of 65,530 URLS per worksheet.\n",
            "  warn(\n",
            "/usr/local/lib/python3.10/dist-packages/xlsxwriter/worksheet.py:1261: UserWarning: Ignoring URL 'https://covid19.gov.ag' since it exceeds Excel's limit of 65,530 URLS per worksheet.\n",
            "  warn(\n",
            "/usr/local/lib/python3.10/dist-packages/xlsxwriter/worksheet.py:1261: UserWarning: Ignoring URL 'https://covidstats.com.ar/' since it exceeds Excel's limit of 65,530 URLS per worksheet.\n",
            "  warn(\n",
            "/usr/local/lib/python3.10/dist-packages/xlsxwriter/worksheet.py:1261: UserWarning: Ignoring URL 'https://www.government.aw' since it exceeds Excel's limit of 65,530 URLS per worksheet.\n",
            "  warn(\n",
            "/usr/local/lib/python3.10/dist-packages/xlsxwriter/worksheet.py:1261: UserWarning: Ignoring URL 'https://covidbaseau.com/' since it exceeds Excel's limit of 65,530 URLS per worksheet.\n",
            "  warn(\n",
            "/usr/local/lib/python3.10/dist-packages/xlsxwriter/worksheet.py:1261: UserWarning: Ignoring URL 'https://www.ecdc.europa.eu/en/publications-data/data-covid-19-vaccination-eu-eea' since it exceeds Excel's limit of 65,530 URLS per worksheet.\n",
            "  warn(\n",
            "/usr/local/lib/python3.10/dist-packages/xlsxwriter/worksheet.py:1261: UserWarning: Ignoring URL 'https://koronavirusinfo.az' since it exceeds Excel's limit of 65,530 URLS per worksheet.\n",
            "  warn(\n",
            "/usr/local/lib/python3.10/dist-packages/xlsxwriter/worksheet.py:1261: UserWarning: Ignoring URL 'http://103.247.238.92/webportal/pages/covid19-vaccination-update.php' since it exceeds Excel's limit of 65,530 URLS per worksheet.\n",
            "  warn(\n",
            "/usr/local/lib/python3.10/dist-packages/xlsxwriter/worksheet.py:1261: UserWarning: Ignoring URL 'https://gisbarbados.gov.bb/blog/covid-19-update-for-monday-march-28/' since it exceeds Excel's limit of 65,530 URLS per worksheet.\n",
            "  warn(\n",
            "/usr/local/lib/python3.10/dist-packages/xlsxwriter/worksheet.py:1261: UserWarning: Ignoring URL 'https://epistat.wiv-isp.be/covid/' since it exceeds Excel's limit of 65,530 URLS per worksheet.\n",
            "  warn(\n",
            "/usr/local/lib/python3.10/dist-packages/xlsxwriter/worksheet.py:1261: UserWarning: Ignoring URL 'https://github.com/dquintani/vacunacion/' since it exceeds Excel's limit of 65,530 URLS per worksheet.\n",
            "  warn(\n",
            "/usr/local/lib/python3.10/dist-packages/xlsxwriter/worksheet.py:1261: UserWarning: Ignoring URL 'https://www.rivm.nl/sites/default/files/2021-09/COVID-19_website_rapport_eilanden_engels_35_20210902_1409.pdf' since it exceeds Excel's limit of 65,530 URLS per worksheet.\n",
            "  warn(\n",
            "/usr/local/lib/python3.10/dist-packages/xlsxwriter/worksheet.py:1261: UserWarning: Ignoring URL 'https://coronavirusbra1.github.io' since it exceeds Excel's limit of 65,530 URLS per worksheet.\n",
            "  warn(\n",
            "/usr/local/lib/python3.10/dist-packages/xlsxwriter/worksheet.py:1261: UserWarning: Ignoring URL 'https://coronavirus.bg/bg/statistika' since it exceeds Excel's limit of 65,530 URLS per worksheet.\n",
            "  warn(\n",
            "/usr/local/lib/python3.10/dist-packages/xlsxwriter/worksheet.py:1261: UserWarning: Ignoring URL 'https://web.facebook.com/MinistryofHealthofCambodia/posts/341471994676237' since it exceeds Excel's limit of 65,530 URLS per worksheet.\n",
            "  warn(\n",
            "/usr/local/lib/python3.10/dist-packages/xlsxwriter/worksheet.py:1261: UserWarning: Ignoring URL 'https://covid19tracker.ca/vaccinationtracker.html' since it exceeds Excel's limit of 65,530 URLS per worksheet.\n",
            "  warn(\n",
            "/usr/local/lib/python3.10/dist-packages/xlsxwriter/worksheet.py:1261: UserWarning: Ignoring URL 'https://github.com/MinCiencia/Datos-COVID19' since it exceeds Excel's limit of 65,530 URLS per worksheet.\n",
            "  warn(\n",
            "/usr/local/lib/python3.10/dist-packages/xlsxwriter/worksheet.py:1261: UserWarning: Ignoring URL 'http://www.nhc.gov.cn/jkj/s7915/202203/d81d339daf694f97952f10d9d8604143.shtml' since it exceeds Excel's limit of 65,530 URLS per worksheet.\n",
            "  warn(\n",
            "/usr/local/lib/python3.10/dist-packages/xlsxwriter/worksheet.py:1261: UserWarning: Ignoring URL 'https://docs.google.com/spreadsheets/d/1eblBeozGn1soDGXbOIicwyEDkUqNMzzpJoAKw84TTA4' since it exceeds Excel's limit of 65,530 URLS per worksheet.\n",
            "  warn(\n",
            "/usr/local/lib/python3.10/dist-packages/xlsxwriter/worksheet.py:1261: UserWarning: Ignoring URL 'https://www.ccss.sa.cr/web/coronavirus/vacunacion' since it exceeds Excel's limit of 65,530 URLS per worksheet.\n",
            "  warn(\n",
            "/usr/local/lib/python3.10/dist-packages/xlsxwriter/worksheet.py:1261: UserWarning: Ignoring URL 'https://www.koronavirus.hr' since it exceeds Excel's limit of 65,530 URLS per worksheet.\n",
            "  warn(\n",
            "/usr/local/lib/python3.10/dist-packages/xlsxwriter/worksheet.py:1261: UserWarning: Ignoring URL 'https://salud.msp.gob.cu/actualizacion-de-la-vacunacion-en-el-marco-de-los-estudios-de-los-candidatos-vacunales-cubanos-y-la-intervencion-sanitaria/' since it exceeds Excel's limit of 65,530 URLS per worksheet.\n",
            "  warn(\n",
            "/usr/local/lib/python3.10/dist-packages/xlsxwriter/worksheet.py:1261: UserWarning: Ignoring URL 'https://bakuna.cw/' since it exceeds Excel's limit of 65,530 URLS per worksheet.\n",
            "  warn(\n",
            "/usr/local/lib/python3.10/dist-packages/xlsxwriter/worksheet.py:1261: UserWarning: Ignoring URL 'https://www.moh.gov.cy/moh/moh.nsf/All/0EFA027144C9E54AC22586BE0032B2F5' since it exceeds Excel's limit of 65,530 URLS per worksheet.\n",
            "  warn(\n",
            "/usr/local/lib/python3.10/dist-packages/xlsxwriter/worksheet.py:1261: UserWarning: Ignoring URL 'https://onemocneni-aktualne.mzcr.cz/covid-19' since it exceeds Excel's limit of 65,530 URLS per worksheet.\n",
            "  warn(\n",
            "/usr/local/lib/python3.10/dist-packages/xlsxwriter/worksheet.py:1261: UserWarning: Ignoring URL 'https://covid19.ssi.dk/overvagningsdata/download-fil-med-vaccinationsdata' since it exceeds Excel's limit of 65,530 URLS per worksheet.\n",
            "  warn(\n",
            "/usr/local/lib/python3.10/dist-packages/xlsxwriter/worksheet.py:1261: UserWarning: Ignoring URL 'https://vacunate.gob.do/' since it exceeds Excel's limit of 65,530 URLS per worksheet.\n",
            "  warn(\n",
            "/usr/local/lib/python3.10/dist-packages/xlsxwriter/worksheet.py:1261: UserWarning: Ignoring URL 'https://github.com/andrab/ecuacovid' since it exceeds Excel's limit of 65,530 URLS per worksheet.\n",
            "  warn(\n",
            "/usr/local/lib/python3.10/dist-packages/xlsxwriter/worksheet.py:1261: UserWarning: Ignoring URL 'https://covid19.gob.sv/' since it exceeds Excel's limit of 65,530 URLS per worksheet.\n",
            "  warn(\n",
            "/usr/local/lib/python3.10/dist-packages/xlsxwriter/worksheet.py:1261: UserWarning: Ignoring URL 'https://guineasalud.org/estadisticas/' since it exceeds Excel's limit of 65,530 URLS per worksheet.\n",
            "  warn(\n",
            "/usr/local/lib/python3.10/dist-packages/xlsxwriter/worksheet.py:1261: UserWarning: Ignoring URL 'https://opendata.digilugu.ee' since it exceeds Excel's limit of 65,530 URLS per worksheet.\n",
            "  warn(\n",
            "/usr/local/lib/python3.10/dist-packages/xlsxwriter/worksheet.py:1261: UserWarning: Ignoring URL 'https://corona.fo/api' since it exceeds Excel's limit of 65,530 URLS per worksheet.\n",
            "  warn(\n",
            "/usr/local/lib/python3.10/dist-packages/xlsxwriter/worksheet.py:1261: UserWarning: Ignoring URL 'https://www.facebook.com/FalkIandsGov/posts/4401230323224594' since it exceeds Excel's limit of 65,530 URLS per worksheet.\n",
            "  warn(\n",
            "/usr/local/lib/python3.10/dist-packages/xlsxwriter/worksheet.py:1261: UserWarning: Ignoring URL 'https://sampo.thl.fi/pivot/prod/en/vaccreg/cov19cov/fact_cov19cov' since it exceeds Excel's limit of 65,530 URLS per worksheet.\n",
            "  warn(\n",
            "/usr/local/lib/python3.10/dist-packages/xlsxwriter/worksheet.py:1261: UserWarning: Ignoring URL 'https://www.data.gouv.fr/fr/datasets/donnees-relatives-aux-personnes-vaccinees-contre-la-covid-19-1/' since it exceeds Excel's limit of 65,530 URLS per worksheet.\n",
            "  warn(\n",
            "/usr/local/lib/python3.10/dist-packages/xlsxwriter/worksheet.py:1261: UserWarning: Ignoring URL 'https://vaccines.ncdc.ge/vaccinationprocess/' since it exceeds Excel's limit of 65,530 URLS per worksheet.\n",
            "  warn(\n",
            "/usr/local/lib/python3.10/dist-packages/xlsxwriter/worksheet.py:1261: UserWarning: Ignoring URL 'https://impfdashboard.de/' since it exceeds Excel's limit of 65,530 URLS per worksheet.\n",
            "  warn(\n",
            "/usr/local/lib/python3.10/dist-packages/xlsxwriter/worksheet.py:1261: UserWarning: Ignoring URL 'https://twitter.com/GibraltarGov/status/1507008369005015050' since it exceeds Excel's limit of 65,530 URLS per worksheet.\n",
            "  warn(\n",
            "/usr/local/lib/python3.10/dist-packages/xlsxwriter/worksheet.py:1261: UserWarning: Ignoring URL 'https://www.data.gov.gr/datasets/mdg_emvolio/' since it exceeds Excel's limit of 65,530 URLS per worksheet.\n",
            "  warn(\n",
            "/usr/local/lib/python3.10/dist-packages/xlsxwriter/worksheet.py:1261: UserWarning: Ignoring URL 'https://corona.nun.gl' since it exceeds Excel's limit of 65,530 URLS per worksheet.\n",
            "  warn(\n",
            "/usr/local/lib/python3.10/dist-packages/xlsxwriter/worksheet.py:1261: UserWarning: Ignoring URL 'https://covid19.gov.gg/guidance/vaccine/stats' since it exceeds Excel's limit of 65,530 URLS per worksheet.\n",
            "  warn(\n",
            "/usr/local/lib/python3.10/dist-packages/xlsxwriter/worksheet.py:1261: UserWarning: Ignoring URL 'https://data.gov.hk/en-data/dataset/hk-fhb-fhbcovid19-vaccination-rates-over-time-by-age' since it exceeds Excel's limit of 65,530 URLS per worksheet.\n",
            "  warn(\n",
            "/usr/local/lib/python3.10/dist-packages/xlsxwriter/worksheet.py:1261: UserWarning: Ignoring URL 'https://koronavirus.gov.hu//cikkek/6-millio-402-ezer-beoltott-2906-az-uj-fertozott-es-elhunyt-40-beteg' since it exceeds Excel's limit of 65,530 URLS per worksheet.\n",
            "  warn(\n",
            "/usr/local/lib/python3.10/dist-packages/xlsxwriter/worksheet.py:1261: UserWarning: Ignoring URL 'https://www.covid.is/tolulegar-upplysingar-boluefni' since it exceeds Excel's limit of 65,530 URLS per worksheet.\n",
            "  warn(\n",
            "/usr/local/lib/python3.10/dist-packages/xlsxwriter/worksheet.py:1261: UserWarning: Ignoring URL 'https://dashboard.cowin.gov.in/' since it exceeds Excel's limit of 65,530 URLS per worksheet.\n",
            "  warn(\n",
            "/usr/local/lib/python3.10/dist-packages/xlsxwriter/worksheet.py:1261: UserWarning: Ignoring URL 'https://data.covid19.go.id/public/index.html' since it exceeds Excel's limit of 65,530 URLS per worksheet.\n",
            "  warn(\n",
            "/usr/local/lib/python3.10/dist-packages/xlsxwriter/worksheet.py:1261: UserWarning: Ignoring URL 'https://irangov.ir/detail/383414' since it exceeds Excel's limit of 65,530 URLS per worksheet.\n",
            "  warn(\n",
            "/usr/local/lib/python3.10/dist-packages/xlsxwriter/worksheet.py:1261: UserWarning: Ignoring URL 'https://covid19ireland-geohive.hub.arcgis.com/' since it exceeds Excel's limit of 65,530 URLS per worksheet.\n",
            "  warn(\n",
            "/usr/local/lib/python3.10/dist-packages/xlsxwriter/worksheet.py:1261: UserWarning: Ignoring URL 'https://covid19.gov.im/general-information/covid-19-vaccination-statistics/' since it exceeds Excel's limit of 65,530 URLS per worksheet.\n",
            "  warn(\n",
            "/usr/local/lib/python3.10/dist-packages/xlsxwriter/worksheet.py:1261: UserWarning: Ignoring URL 'https://datadashboard.health.gov.il/COVID-19/general' since it exceeds Excel's limit of 65,530 URLS per worksheet.\n",
            "  warn(\n",
            "/usr/local/lib/python3.10/dist-packages/xlsxwriter/worksheet.py:1261: UserWarning: Ignoring URL 'https://raw.githubusercontent.com/italia/covid19-opendata-vaccini/master/dati/somministrazioni-vaccini-latest.csv' since it exceeds Excel's limit of 65,530 URLS per worksheet.\n",
            "  warn(\n",
            "/usr/local/lib/python3.10/dist-packages/xlsxwriter/worksheet.py:1261: UserWarning: Ignoring URL 'https://vaccination.moh.gov.jm/' since it exceeds Excel's limit of 65,530 URLS per worksheet.\n",
            "  warn(\n",
            "/usr/local/lib/python3.10/dist-packages/xlsxwriter/worksheet.py:1261: UserWarning: Ignoring URL 'https://www.kantei.go.jp/jp/headline/kansensho/vaccine.html' since it exceeds Excel's limit of 65,530 URLS per worksheet.\n",
            "  warn(\n",
            "/usr/local/lib/python3.10/dist-packages/xlsxwriter/worksheet.py:1261: UserWarning: Ignoring URL 'https://www.gov.je/Datasets/ListOpenData?ListName=COVID19Weekly&clean=true' since it exceeds Excel's limit of 65,530 URLS per worksheet.\n",
            "  warn(\n",
            "/usr/local/lib/python3.10/dist-packages/xlsxwriter/worksheet.py:1261: UserWarning: Ignoring URL 'https://www.coronavirus2020.kz/' since it exceeds Excel's limit of 65,530 URLS per worksheet.\n",
            "  warn(\n",
            "/usr/local/lib/python3.10/dist-packages/xlsxwriter/worksheet.py:1261: UserWarning: Ignoring URL 'https://www.health.go.ke/wp-content/uploads/2022/03/MINISTRY-OF-HEALTH-KENYA-COVID-19-IMMUNIZATION-STATUS-REPORT-19TH-MARCH-2022.pdf' since it exceeds Excel's limit of 65,530 URLS per worksheet.\n",
            "  warn(\n",
            "/usr/local/lib/python3.10/dist-packages/xlsxwriter/worksheet.py:1261: UserWarning: Ignoring URL 'https://msh.rks-gov.net/sq/statistikat-covid-19/' since it exceeds Excel's limit of 65,530 URLS per worksheet.\n",
            "  warn(\n",
            "/usr/local/lib/python3.10/dist-packages/xlsxwriter/worksheet.py:1261: UserWarning: Ignoring URL 'https://vc.emed.gov.kg/' since it exceeds Excel's limit of 65,530 URLS per worksheet.\n",
            "  warn(\n",
            "/usr/local/lib/python3.10/dist-packages/xlsxwriter/worksheet.py:1261: UserWarning: Ignoring URL 'https://www.covid19.gov.la/index.php' since it exceeds Excel's limit of 65,530 URLS per worksheet.\n",
            "  warn(\n",
            "/usr/local/lib/python3.10/dist-packages/xlsxwriter/worksheet.py:1261: UserWarning: Ignoring URL 'https://data.gov.lv/dati/eng/dataset/covid19-vakcinacijas' since it exceeds Excel's limit of 65,530 URLS per worksheet.\n",
            "  warn(\n",
            "/usr/local/lib/python3.10/dist-packages/xlsxwriter/worksheet.py:1261: UserWarning: Ignoring URL 'https://impact.cib.gov.lb/home/dashboard/vaccine' since it exceeds Excel's limit of 65,530 URLS per worksheet.\n",
            "  warn(\n",
            "/usr/local/lib/python3.10/dist-packages/xlsxwriter/worksheet.py:1261: UserWarning: Ignoring URL 'https://ncdc.org.ly/Ar' since it exceeds Excel's limit of 65,530 URLS per worksheet.\n",
            "  warn(\n",
            "/usr/local/lib/python3.10/dist-packages/xlsxwriter/worksheet.py:1261: UserWarning: Ignoring URL 'https://opendata.swiss/en/dataset/covid-19-schweiz?detGeo=FL' since it exceeds Excel's limit of 65,530 URLS per worksheet.\n",
            "  warn(\n",
            "/usr/local/lib/python3.10/dist-packages/xlsxwriter/worksheet.py:1261: UserWarning: Ignoring URL 'https://experience.arcgis.com/experience/cab84dcfe0464c2a8050a78f817924ca/page/page_3/' since it exceeds Excel's limit of 65,530 URLS per worksheet.\n",
            "  warn(\n",
            "/usr/local/lib/python3.10/dist-packages/xlsxwriter/worksheet.py:1261: UserWarning: Ignoring URL 'https://data.public.lu/en/datasets/donnees-covid19/' since it exceeds Excel's limit of 65,530 URLS per worksheet.\n",
            "  warn(\n",
            "/usr/local/lib/python3.10/dist-packages/xlsxwriter/worksheet.py:1261: UserWarning: Ignoring URL 'https://www.ssm.gov.mo/docs/19164/19164_dd2dfe6b739b4964b394d629e656af72_000_.pdf' since it exceeds Excel's limit of 65,530 URLS per worksheet.\n",
            "  warn(\n",
            "/usr/local/lib/python3.10/dist-packages/xlsxwriter/worksheet.py:1261: UserWarning: Ignoring URL 'https://github.com/MoH-Malaysia/covid19-public' since it exceeds Excel's limit of 65,530 URLS per worksheet.\n",
            "  warn(\n",
            "/usr/local/lib/python3.10/dist-packages/xlsxwriter/worksheet.py:1261: UserWarning: Ignoring URL 'https://twitter.com/HPA_MV/status/1503053275741913088' since it exceeds Excel's limit of 65,530 URLS per worksheet.\n",
            "  warn(\n",
            "/usr/local/lib/python3.10/dist-packages/xlsxwriter/worksheet.py:1261: UserWarning: Ignoring URL 'https://github.com/COVID19-Malta/COVID19-Cases' since it exceeds Excel's limit of 65,530 URLS per worksheet.\n",
            "  warn(\n",
            "/usr/local/lib/python3.10/dist-packages/xlsxwriter/worksheet.py:1261: UserWarning: Ignoring URL 'http://www.gob.mx/cms/uploads/attachment/file/712810/2022.03.29_17h00_ComunicadoTecnicoDiario_Covid19__1_.pdf' since it exceeds Excel's limit of 65,530 URLS per worksheet.\n",
            "  warn(\n",
            "/usr/local/lib/python3.10/dist-packages/xlsxwriter/worksheet.py:1261: UserWarning: Ignoring URL 'https://vaccinare.gov.md' since it exceeds Excel's limit of 65,530 URLS per worksheet.\n",
            "  warn(\n",
            "/usr/local/lib/python3.10/dist-packages/xlsxwriter/worksheet.py:1261: UserWarning: Ignoring URL 'https://en.gouv.mc/Policy-Practice/Social-Affairs-and-Health/News/Minister-of-State-visits-those-working-to-combat-COVID' since it exceeds Excel's limit of 65,530 URLS per worksheet.\n",
            "  warn(\n",
            "/usr/local/lib/python3.10/dist-packages/xlsxwriter/worksheet.py:1261: UserWarning: Ignoring URL 'https://ikon.mn/' since it exceeds Excel's limit of 65,530 URLS per worksheet.\n",
            "  warn(\n",
            "/usr/local/lib/python3.10/dist-packages/xlsxwriter/worksheet.py:1261: UserWarning: Ignoring URL 'https://www.covidodgovor.me/' since it exceeds Excel's limit of 65,530 URLS per worksheet.\n",
            "  warn(\n",
            "/usr/local/lib/python3.10/dist-packages/xlsxwriter/worksheet.py:1261: UserWarning: Ignoring URL 'https://mohs.gov.mm/page/18035' since it exceeds Excel's limit of 65,530 URLS per worksheet.\n",
            "  warn(\n",
            "/usr/local/lib/python3.10/dist-packages/xlsxwriter/worksheet.py:1261: UserWarning: Ignoring URL 'https://covid19.mohp.gov.np/situation-report' since it exceeds Excel's limit of 65,530 URLS per worksheet.\n",
            "  warn(\n",
            "/usr/local/lib/python3.10/dist-packages/xlsxwriter/worksheet.py:1261: UserWarning: Ignoring URL 'https://github.com/mzelst/covid-19' since it exceeds Excel's limit of 65,530 URLS per worksheet.\n",
            "  warn(\n",
            "/usr/local/lib/python3.10/dist-packages/xlsxwriter/worksheet.py:1261: UserWarning: Ignoring URL 'https://www.health.govt.nz/our-work/diseases-and-conditions/covid-19-novel-coronavirus/covid-19-data-and-statistics/covid-19-vaccine-data' since it exceeds Excel's limit of 65,530 URLS per worksheet.\n",
            "  warn(\n",
            "/usr/local/lib/python3.10/dist-packages/xlsxwriter/worksheet.py:1261: UserWarning: Ignoring URL 'https://worldhealthorg.shinyapps.io/EURO_COVID-19_vaccine_monitor/' since it exceeds Excel's limit of 65,530 URLS per worksheet.\n",
            "  warn(\n",
            "/usr/local/lib/python3.10/dist-packages/xlsxwriter/worksheet.py:1261: UserWarning: Ignoring URL 'https://asi.saglik.gov.ct.tr/' since it exceeds Excel's limit of 65,530 URLS per worksheet.\n",
            "  warn(\n",
            "/usr/local/lib/python3.10/dist-packages/xlsxwriter/worksheet.py:1261: UserWarning: Ignoring URL 'https://github.com/folkehelseinstituttet/surveillance_data' since it exceeds Excel's limit of 65,530 URLS per worksheet.\n",
            "  warn(\n",
            "/usr/local/lib/python3.10/dist-packages/xlsxwriter/worksheet.py:1261: UserWarning: Ignoring URL 'https://ncoc.gov.pk/covid-vaccination-en.php' since it exceeds Excel's limit of 65,530 URLS per worksheet.\n",
            "  warn(\n",
            "/usr/local/lib/python3.10/dist-packages/xlsxwriter/worksheet.py:1261: UserWarning: Ignoring URL 'https://www.datosabiertos.gob.pe/dataset/vacunacion' since it exceeds Excel's limit of 65,530 URLS per worksheet.\n",
            "  warn(\n",
            "/usr/local/lib/python3.10/dist-packages/xlsxwriter/worksheet.py:1261: UserWarning: Ignoring URL 'https://news.abs-cbn.com/spotlight/multimedia/infographic/03/23/21/philippines-covid-19-vaccine-tracker' since it exceeds Excel's limit of 65,530 URLS per worksheet.\n",
            "  warn(\n",
            "/usr/local/lib/python3.10/dist-packages/xlsxwriter/worksheet.py:1261: UserWarning: Ignoring URL 'https://www.gov.pl/web/szczepimysie/raport-szczepien-przeciwko-covid-19' since it exceeds Excel's limit of 65,530 URLS per worksheet.\n",
            "  warn(\n",
            "/usr/local/lib/python3.10/dist-packages/xlsxwriter/worksheet.py:1261: UserWarning: Ignoring URL 'https://github.com/dssg-pt/covid19pt-data' since it exceeds Excel's limit of 65,530 URLS per worksheet.\n",
            "  warn(\n",
            "/usr/local/lib/python3.10/dist-packages/xlsxwriter/worksheet.py:1261: UserWarning: Ignoring URL 'https://covid19.moph.gov.qa/EN/Pages/Vaccination-Program-Data.aspx' since it exceeds Excel's limit of 65,530 URLS per worksheet.\n",
            "  warn(\n",
            "/usr/local/lib/python3.10/dist-packages/xlsxwriter/worksheet.py:1261: UserWarning: Ignoring URL 'https://datelazi.ro/' since it exceeds Excel's limit of 65,530 URLS per worksheet.\n",
            "  warn(\n",
            "/usr/local/lib/python3.10/dist-packages/xlsxwriter/worksheet.py:1261: UserWarning: Ignoring URL 'https://gogov.ru/articles/covid-v-stats' since it exceeds Excel's limit of 65,530 URLS per worksheet.\n",
            "  warn(\n",
            "/usr/local/lib/python3.10/dist-packages/xlsxwriter/worksheet.py:1261: UserWarning: Ignoring URL 'https://www.sainthelena.gov.sh/2021/news/preliminary-data-from-the-covid-19-vaccination-programme/' since it exceeds Excel's limit of 65,530 URLS per worksheet.\n",
            "  warn(\n"
          ]
        }
      ]
    },
    {
      "cell_type": "code",
      "source": [
        "#Se guarda el archivo de excel\n",
        "writer.save()"
      ],
      "metadata": {
        "colab": {
          "base_uri": "https://localhost:8080/"
        },
        "id": "ONS4DhQPOK-B",
        "outputId": "24d4576e-68b3-441d-a32d-b43bc901cba7"
      },
      "execution_count": 35,
      "outputs": [
        {
          "output_type": "stream",
          "name": "stderr",
          "text": [
            "<ipython-input-35-2d2f23e6019b>:2: FutureWarning: save is not part of the public API, usage can give unexpected results and will be removed in a future version\n",
            "  writer.save()\n",
            "/usr/local/lib/python3.10/dist-packages/xlsxwriter/workbook.py:369: UserWarning: Calling close() on already closed file.\n",
            "  warn(\"Calling close() on already closed file.\")\n"
          ]
        }
      ]
    }
  ]
}